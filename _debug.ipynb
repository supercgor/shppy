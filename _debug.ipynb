{
 "cells": [
  {
   "cell_type": "code",
   "execution_count": null,
   "metadata": {},
   "outputs": [],
   "source": [
    "import numpy as np\n",
    "from pathlib import Path\n",
    "\n",
    "def read_timestep(path: str | Path) -> np.ndarray:\n",
    "    reader = iter(open(path, \"r\"))\n",
    "    outs = []\n",
    "    while True:\n",
    "        l = next(reader, None)\n",
    "        if l is None:\n",
    "            break\n",
    "        if \"ITEM: TIMESTEP\" in l:\n",
    "            t = int(next(reader).strip())\n",
    "            outs.append(t)\n",
    "    return np.array(outs)"
   ]
  },
  {
   "cell_type": "code",
   "execution_count": null,
   "metadata": {},
   "outputs": [],
   "source": [
    "import re\n",
    "def read_timestep_2(path: str | Path):\n",
    "    with open(path, \"r\") as f:\n",
    "        l = f.read()\n",
    "        t = re.findall(r\"ITEM: TIMESTEP\\s+(\\d+)\", l)\n",
    "        return np.array(t, dtype = int)\n",
    "\n",
    "print(read_timestep_2(\"/Users/supercgor/Library/CloudStorage/OneDrive-個人/Documents/Data/simu/disordered-pbc/t120-traj1.pos\"))\n",
    "\n",
    "%timeit read_timestep_2(\"/Users/supercgor/Library/CloudStorage/OneDrive-個人/Documents/Data/simu/disordered-pbc/t120-traj1.pos\")"
   ]
  },
  {
   "cell_type": "code",
   "execution_count": null,
   "metadata": {},
   "outputs": [],
   "source": [
    "import re\n",
    "from pathlib import Path\n",
    "from io import StringIO\n",
    "from shppy.io import read_lammps_dump_text\n",
    "# from ase.io.lammpsrun import read_lammps_dump_text\n",
    "from ase.io.extxyz import read_xyz\n",
    "path = \"/Users/supercgor/Library/CloudStorage/OneDrive-個人/Documents/Data/simu/disordered-pbc/t120-traj1.xyz\"\n",
    "\n",
    "%timeit list(read_xyz(open(path, \"r\"), index = slice(0,-1, 2)))\n",
    "# print(len(read_lammps_dump_text(path, slice(0,-1, 10))))\n",
    "# print(read_lammps_dump_text(path, index = -1))\n",
    "\n",
    "path = \"/Users/supercgor/Library/CloudStorage/OneDrive-個人/Documents/Data/simu/disordered-pbc/t120-traj1.pos\"\n",
    "\n",
    "# read_lammps_dump_text(path, index = slice(0,-1, 100), sort_by_id = False)\n",
    "%timeit read_lammps_dump_text(path, index = slice(0,-1, 2), sort_by_id = False)\n"
   ]
  },
  {
   "cell_type": "code",
   "execution_count": null,
   "metadata": {},
   "outputs": [],
   "source": [
    "import numpy as np\n",
    "import numba as nb\n",
    "from typing import Sequence\n",
    "\n",
    "cell =  np.array([0.5, 0.5, 0.5])\n",
    "rs = np.random.rand(10000, 3)\n",
    "\n",
    "def pbc_map(rs: np.ndarray, cell: np.ndarray | None = None, pbc: Sequence[bool] | bool = False, align_center = False):\n",
    "    if cell is None or not pbc:\n",
    "        return rs\n",
    "    \n",
    "    if isinstance(pbc, bool):\n",
    "        pbc = [pbc] * rs.shape[-1]\n",
    "        \n",
    "    cell = np.diag(cell) if cell.ndim == 1 else cell\n",
    "    \n",
    "    norm_rs = np.linalg.inv(cell.T) @ rs.T # (3, 3) @ (3, N) -> (3, N)\n",
    "    for i in range(rs.shape[-1]):\n",
    "        if pbc[i]:\n",
    "            if align_center:\n",
    "                norm_rs[i] -= np.rint(norm_rs[i])\n",
    "            else:\n",
    "                norm_rs[i] -= np.floor(norm_rs[i])\n",
    "            \n",
    "    return (cell.T @ norm_rs).T\n",
    "\n",
    "out = pbc_map(rs, cell, pbc = True, align_center = True)\n",
    "\n",
    "%timeit pbc_map(rs, cell, pbc = True, align_center = True)\n",
    "\n",
    "pbc_map_2 = nb.njit(pbc_map)\n",
    "\n",
    "pbc_map_2(rs, cell, pbc = True, align_center = True)\n",
    "\n",
    "%timeit pbc_map_2(rs, cell, pbc = True, align_center = True)\n"
   ]
  }
 ],
 "metadata": {
  "kernelspec": {
   "display_name": "dlenv",
   "language": "python",
   "name": "python3"
  },
  "language_info": {
   "codemirror_mode": {
    "name": "ipython",
    "version": 3
   },
   "file_extension": ".py",
   "mimetype": "text/x-python",
   "name": "python",
   "nbconvert_exporter": "python",
   "pygments_lexer": "ipython3",
   "version": "3.10.14"
  }
 },
 "nbformat": 4,
 "nbformat_minor": 2
}
